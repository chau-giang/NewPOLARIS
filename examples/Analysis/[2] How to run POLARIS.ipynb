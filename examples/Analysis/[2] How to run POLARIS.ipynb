{
 "cells": [
  {
   "cell_type": "markdown",
   "id": "16e08d72",
   "metadata": {},
   "source": [
    "# Introduction"
   ]
  },
  {
   "cell_type": "markdown",
   "id": "4f5d73af",
   "metadata": {},
   "source": [
    "This is a simple example on how to use POLARIS to perform the numerical modelling of dust polarization in the protostellar core studied in our paper: Giang et al. (2022).\n",
    "\n"
   ]
  },
  {
   "cell_type": "markdown",
   "id": "b9f328c8",
   "metadata": {},
   "source": [
    "# 1) Create the model of protostellar core by using polaris-gen function.\n"
   ]
  },
  {
   "cell_type": "markdown",
   "id": "4c28389c",
   "metadata": {},
   "source": [
    "Go to the tools/polaris_tools_modules/model.py"
   ]
  },
  {
   "cell_type": "markdown",
   "id": "ee80b8b6",
   "metadata": {},
   "source": [
    "The model name will be listed in the model_dict (line 32). In our paper, we assume that the protostellar core is the Bonor-Ebert sphere and the magnetic field is uniform along the vertical direction. The model name is 'globule': BokGlobule (line 36)"
   ]
  },
  {
   "cell_type": "markdown",
   "id": "67de32bb",
   "metadata": {},
   "source": [
    "The protostellar core is assumed to have the spherical shape. The sphere is numerically modelled by parameters 'r_inner' and 'r_outer': the inner and outer boundary of the sphere, 'n_r', 'n_th', 'n_ph': the number of cell along the radial, polar, and azimuthal direction.  "
   ]
  },
  {
   "cell_type": "markdown",
   "id": "c0625938",
   "metadata": {},
   "source": [
    "    In our model, we choose  'inner_radius' = 1au, 'outer_radius' = 15000au, 'n_r' = 250, 'n_th' = 201, 'n_ph' = 1\n",
    "    "
   ]
  },
  {
   "cell_type": "markdown",
   "id": "03663d64",
   "metadata": {},
   "source": [
    "The gas density is a constant in the central region and decreases outward as nH ~ r^{-2} (see the function bonor_ebert_density in the  tools/polaris_tools_modules/math.py for more detail). The number gas density is controlled by parameter 'total_gas_mass ', the total mass of hydrogen atoms in the sphere. And the uniform magnetic field is calculated by using the function simple_mag_field in the math.py. "
   ]
  },
  {
   "cell_type": "markdown",
   "id": "ed51feef",
   "metadata": {},
   "source": [
    "    In our model, we choose \"total_gas_mass\" = 8Msun, aand the magnetic field strength is 134uG. Note that all unit here is in SI unit"
   ]
  },
  {
   "cell_type": "markdown",
   "id": "fa7a9c1a",
   "metadata": {},
   "source": [
    " * The gas density profile and the magnetic field configuration can be changed by calling another function described in the file math.py"
   ]
  },
  {
   "cell_type": "markdown",
   "id": "1d75bf78",
   "metadata": {},
   "source": [
    "Then, after defining all necessary parameter in the model, open terminal, go to the POLARIS folder, type:"
   ]
  },
  {
   "cell_type": "markdown",
   "id": "88ad79c9",
   "metadata": {},
   "source": [
    "    ./compile.sh -u"
   ]
  },
  {
   "cell_type": "markdown",
   "id": "d48db8be",
   "metadata": {},
   "source": [
    "It will recompile and update the change in the polaristool. Then create the model by typing:"
   ]
  },
  {
   "cell_type": "markdown",
   "id": "c051f084",
   "metadata": {},
   "source": [
    "    polaris-gen globule grid.dat"
   ]
  },
  {
   "cell_type": "markdown",
   "id": "d373f2e1",
   "metadata": {},
   "source": [
    "It will create a folder named /globule including the binary file grid.dat, which contains the gas density and magnetic field in each cell position of the protostellar core."
   ]
  },
  {
   "cell_type": "markdown",
   "id": "c24f919a",
   "metadata": {},
   "source": [
    "# "
   ]
  },
  {
   "cell_type": "markdown",
   "id": "c44662d4",
   "metadata": {},
   "source": [
    "# Example file"
   ]
  },
  {
   "cell_type": "markdown",
   "id": "f338c113",
   "metadata": {},
   "source": [
    "In the example file, I attack the grid file of protostellar core used in our paper and four examples, including how to perform the Monte carlo simulation, grain alignment simulation, combination between mcrt and grain alignment modelling, and dust polarization simulation"
   ]
  },
  {
   "cell_type": "markdown",
   "id": "dd474d1f",
   "metadata": {},
   "source": [
    "## 2.1 MCRT simulation"
   ]
  },
  {
   "cell_type": "markdown",
   "id": "5527b5ce",
   "metadata": {},
   "source": [
    "The command line to perform the MCRT and get the gas temperature is <cmd> CMD_TEMP. The input file of MCRT is mcrt.cmd located in /example/MCRT folder. Running the MCRT simulation by typing:\n"
   ]
  },
  {
   "cell_type": "markdown",
   "id": "1d748101",
   "metadata": {},
   "source": [
    "    polaris /your_polaris_folder/example/MCRT/mcrt.cmd"
   ]
  },
  {
   "cell_type": "markdown",
   "id": "70c7620d",
   "metadata": {},
   "source": [
    "It will create the binary file grid_temp.dat, two folders /data and /plots. \n",
    "+ The grid_temp.dat file icludes the information of the gas density, magnetic field, spectral energy density distribution, gas temperature, and dust temperature in each cell of the sphere. \n",
    "+ In /data, there are two files: input_midplane.fits and output_midplane.fits. \n",
    "    + The input file contains the 2D map of gas density and magnetif fields in them midplane of x-y, x-z, and y-z plane. \n",
    "    + The output fits file contain the information of gas and dust teperature"
   ]
  },
  {
   "cell_type": "markdown",
   "id": "3815137c",
   "metadata": {},
   "source": [
    "# 2.2. Model grain alignment"
   ]
  },
  {
   "cell_type": "markdown",
   "id": "b68120f1",
   "metadata": {},
   "source": [
    "The simulation command to model the grain aligment is <cmd> CMD_RAT. The input file for model the grain alignment by RATs is aligment_RAT.cmd located in the folder /example/alignment. To run it, type:"
   ]
  },
  {
   "cell_type": "markdown",
   "id": "57f3dab2",
   "metadata": {},
   "source": [
    "    polaris /your_polaris_folder/example/alignment/alignment_RATs.cmd"
   ]
  },
  {
   "cell_type": "markdown",
   "id": "8635386b",
   "metadata": {},
   "source": [
    "It will create the binary file grid_rat.dat, two folders /data and /plots"
   ]
  },
  {
   "cell_type": "markdown",
   "id": "b4ca3ba9",
   "metadata": {},
   "source": [
    "+ The grid_dat.dat file is similar as the file grid_temp.dat but contains the values of the minimum and maximum grain alignment size, the anisotropic degree, and the angle between the radiation and magnetic field resulted from the simulation."
   ]
  },
  {
   "cell_type": "markdown",
   "id": "fd9da2c7",
   "metadata": {},
   "source": [
    "+ The input_midplane.fits contains the 2D map of the radiation field strenght U.\n"
   ]
  },
  {
   "cell_type": "markdown",
   "id": "2a2ee9a7",
   "metadata": {},
   "source": [
    "+ The output_midplane fits file contains the 2D map of the minimum and maximum alignment size, the anisotropic degree, and the angle between B and k."
   ]
  },
  {
   "cell_type": "markdown",
   "id": "b4c52a91",
   "metadata": {},
   "source": [
    "* We note that if the grain alignment mechanism in the input file is <align> ALIG_MRAT (grains will be aligned with B by MRAT alignment, see alignment_MRAT.cmd file, and try to run it by typing:"
   ]
  },
  {
   "cell_type": "markdown",
   "id": "64090da4",
   "metadata": {},
   "source": [
    "    polaris /your_polaris_folder/example/alignment/alignment_MRAT.cmd,"
   ]
  },
  {
   "cell_type": "markdown",
   "id": "c190ff88",
   "metadata": {},
   "source": [
    "POLARIS will output also the minimum and maximum size that grains can have fast internal relaxation and the maximum size for grains having the efficient magnetic alignment by MRAT mechanism in both the grid_rat.dat and output_midplane.fits file."
   ]
  },
  {
   "cell_type": "markdown",
   "id": "f3f29809",
   "metadata": {},
   "source": [
    "# 2.3. Combination of MCRT and grain alignment modelling"
   ]
  },
  {
   "cell_type": "markdown",
   "id": "6ce98f6d",
   "metadata": {},
   "source": [
    "Besides calculating the MCRT and grain alignment separately, we can combine two simulations together by using the simulation mode <cmd> CMD_TEMP_RAT. The input file for this mode, for grains aligned by RATs is combine_RATs.cmd and for grains aligned by MRAT mechanism is combine_MRAT.cmd located in folder /example/combine/. To running this simulation, type:"
   ]
  },
  {
   "cell_type": "markdown",
   "id": "a104985e",
   "metadata": {},
   "source": [
    "    polaris /your_polaris_folder/example/combine/combine_RAT.cmd  \n",
    "    "
   ]
  },
  {
   "cell_type": "markdown",
   "id": "1043419d",
   "metadata": {},
   "source": [
    "and"
   ]
  },
  {
   "cell_type": "markdown",
   "id": "5f25b1a7",
   "metadata": {},
   "source": [
    "    polaris /your_polaris_folder/example/combine/combine_MRAT.cmd"
   ]
  },
  {
   "cell_type": "markdown",
   "id": "15f893e2",
   "metadata": {},
   "source": [
    "This simulation will output the binary file named grid_temp.dat and two files input_midplane ad output_midplane.fits in /data folder."
   ]
  },
  {
   "cell_type": "markdown",
   "id": "49190b26",
   "metadata": {},
   "source": [
    "# 2.4. Polarized thermal dust emission"
   ]
  },
  {
   "cell_type": "markdown",
   "id": "721fcc65",
   "metadata": {},
   "source": [
    "Knowing the dust temperature and the grain alignment distribution, we can model the polarized thermal dust emission from grains aligned with magnetic fields by using the cmd mode <cmd> CMD_DUST_EMISSION. The input file of this simulation is located in the folder /example/polarization. To run the simulation for grains aligned with B by RATs, type:"
   ]
  },
  {
   "cell_type": "markdown",
   "id": "33f72cbd",
   "metadata": {},
   "source": [
    "    polaris /your_polaris_folder/example/polarization/pol_RATs.cmd"
   ]
  },
  {
   "cell_type": "markdown",
   "id": "bd2218e9",
   "metadata": {},
   "source": [
    "and for grains aligned with B by MRAT alignment, type:"
   ]
  },
  {
   "cell_type": "markdown",
   "id": "2f718251",
   "metadata": {},
   "source": [
    "    polaris /your_polaris_folder/example/polarization/pol_MRAT.cmd"
   ]
  },
  {
   "cell_type": "markdown",
   "id": "7ddb6730",
   "metadata": {},
   "source": [
    "The output file will be in the fits file polaris_detector_nr000N.fits with N is 1, 2, 3 ... corresponding to each detector defined in pol.cmd. The fits file contain the 2D matrix of the Stokes I, Q, U, V, the gas column density, and the optical depth in the observed plne of sky.  "
   ]
  },
  {
   "cell_type": "markdown",
   "id": "34187697",
   "metadata": {},
   "source": [
    "# 2.5. Self-dust scattering"
   ]
  },
  {
   "cell_type": "markdown",
   "id": "c77f1827",
   "metadata": {},
   "source": [
    "The self dust-scattering can be performed by calculating the temperature of sphericcal dust grain (CMD_TEMP) and dust emission (CMD_DUST_EMISSIOM) Am example for this simulation is self_scattering.cmd in the folder example/self_scattering. To simulate this simulation, type"
   ]
  },
  {
   "cell_type": "markdown",
   "id": "cc8d3962",
   "metadata": {},
   "source": [
    "    polaris /your_polaris_folder/example/self_scattering/self_scattering.cmd"
   ]
  },
  {
   "cell_type": "code",
   "execution_count": null,
   "id": "95b70cfd",
   "metadata": {},
   "outputs": [],
   "source": []
  }
 ],
 "metadata": {
  "kernelspec": {
   "display_name": "Python 3",
   "language": "python",
   "name": "python3"
  },
  "language_info": {
   "codemirror_mode": {
    "name": "ipython",
    "version": 3
   },
   "file_extension": ".py",
   "mimetype": "text/x-python",
   "name": "python",
   "nbconvert_exporter": "python",
   "pygments_lexer": "ipython3",
   "version": "3.8.8"
  }
 },
 "nbformat": 4,
 "nbformat_minor": 5
}
