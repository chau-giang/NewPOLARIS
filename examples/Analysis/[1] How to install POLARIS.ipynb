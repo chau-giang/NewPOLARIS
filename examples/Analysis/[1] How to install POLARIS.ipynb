{
 "cells": [
  {
   "cell_type": "markdown",
   "id": "089feed8",
   "metadata": {},
   "source": [
    "Requirement:\n",
    "    1) gcc with OpenMP and \n",
    "    2) cmake\n",
    "\n"
   ]
  },
  {
   "cell_type": "markdown",
   "id": "c5ba459e",
   "metadata": {},
   "source": [
    "    1) gcc with OpeNMP"
   ]
  },
  {
   "cell_type": "markdown",
   "id": "1b88a5bc",
   "metadata": {},
   "source": [
    "    2) cmake\n"
   ]
  },
  {
   "cell_type": "markdown",
   "id": "8fe9e922",
   "metadata": {},
   "source": [
    "Remove the src file downloaded in the POLARIS website and replace it eith the new src code in the folder which I send you. The new src file is the updated version of POLARIS with iron inclusions and the detailed grain alignment physics.\n"
   ]
  },
  {
   "cell_type": "markdown",
   "id": "091fce78",
   "metadata": {},
   "source": [
    "To recompile the code, go to the POLARIS direction. For example, in my case, it is: /home/chaugiang/Dropbox/POLARIS."
   ]
  },
  {
   "cell_type": "markdown",
   "id": "51476893",
   "metadata": {},
   "source": [
    "Type:"
   ]
  },
  {
   "cell_type": "markdown",
   "id": "0b84ad37",
   "metadata": {},
   "source": [
    "       chmod +x compile.sh \n",
    "       ./compile.sh -f"
   ]
  },
  {
   "cell_type": "markdown",
   "id": "c7c0dc03",
   "metadata": {},
   "source": [
    "It will recompile the code from the beginning."
   ]
  },
  {
   "cell_type": "markdown",
   "id": "343e1f06",
   "metadata": {},
   "source": [
    "When you update the model in the /tools/polaris_tools_module, to recompile the code, type:"
   ]
  },
  {
   "cell_type": "markdown",
   "id": "a8de1872",
   "metadata": {},
   "source": [
    "    ./compile.sh -u"
   ]
  },
  {
   "cell_type": "code",
   "execution_count": null,
   "id": "c2be175b",
   "metadata": {},
   "outputs": [],
   "source": []
  }
 ],
 "metadata": {
  "kernelspec": {
   "display_name": "Python 3",
   "language": "python",
   "name": "python3"
  },
  "language_info": {
   "codemirror_mode": {
    "name": "ipython",
    "version": 3
   },
   "file_extension": ".py",
   "mimetype": "text/x-python",
   "name": "python",
   "nbconvert_exporter": "python",
   "pygments_lexer": "ipython3",
   "version": "3.8.8"
  }
 },
 "nbformat": 4,
 "nbformat_minor": 5
}
